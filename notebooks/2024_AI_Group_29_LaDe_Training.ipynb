{
 "cells": [
  {
   "cell_type": "code",
   "execution_count": 1,
   "metadata": {
    "cell_id": "180a1aec5ed440f0b208413d7943167a",
    "deepnote_cell_type": "code",
    "deepnote_to_be_reexecuted": false,
    "execution_millis": 57,
    "execution_start": 1711448586528,
    "source_hash": null
   },
   "outputs": [],
   "source": [
    "import torch\n",
    "from torch import Tensor\n",
    "import torch.nn as nn\n",
    "import torch_geometric.nn as gnn\n",
    "\n",
    "from icecream import ic"
   ]
  },
  {
   "cell_type": "code",
   "execution_count": 2,
   "metadata": {
    "cell_id": "e0635c35eadc4ede891c3166bb960ad2",
    "deepnote_cell_type": "code",
    "deepnote_to_be_reexecuted": false,
    "execution_millis": 129,
    "execution_start": 1711450005400,
    "source_hash": null
   },
   "outputs": [],
   "source": [
    "import numpy as np\n",
    "from pathlib import Path\n",
    "from torch_geometric.data import Data, Dataset\n",
    "from torch_geometric.loader import DataLoader\n",
    "from sklearn.model_selection import train_test_split\n",
    "\n",
    "class TspDataset(Dataset):\n",
    "    def __init__(self, split = \"train\"):\n",
    "        super().__init__()\n",
    "        self.data_root = Path(\"../data/processed_heuristic-threshold\")\n",
    "        instances = self.data_root / \"instances\" / \"1\"\n",
    "        instances = sum((list(instance.iterdir()) for instance in instances.iterdir() if int(instance.stem) >= 3), [])\n",
    "\n",
    "        self.split = split\n",
    "        if split is None:\n",
    "            self.instances = instances\n",
    "            return\n",
    "        train_instances, tmp_instances = train_test_split(instances, test_size = 0.2, random_state = 42)\n",
    "        if split == \"train\":\n",
    "            self.instances = train_instances\n",
    "        else:\n",
    "            val_instances, test_instances = train_test_split(tmp_instances, test_size = 0.5, random_state = 42)\n",
    "            self.instances = val_instances if self.split == \"val\" else test_instances\n",
    "    \n",
    "    def get(self, idx):\n",
    "        entry = self.instances[idx]\n",
    "        with np.load(entry / \"pairwise.npz\") as data:\n",
    "            distance_matrix = torch.tensor(data['arr_0'], dtype=torch.float)\n",
    "        distance_matrix = distance_matrix / distance_matrix.max()\n",
    "        route_mask = torch.from_numpy(np.loadtxt(entry / \"sol_mask.txt\", dtype=np.float32))[:-1, :-1]\n",
    "        route_mask = route_mask + route_mask.mT\n",
    "\n",
    "        graph = Data(x=distance_matrix[:, :1], edge_attr=distance_matrix, y=route_mask)\n",
    "        return graph\n",
    "    \n",
    "    def len(self):\n",
    "        return len(self.instances)\n",
    "\n",
    "    def save_paths(self):\n",
    "        path_root = Path(\"path_splits\")\n",
    "        path_root.mkdir(exist_ok=True, parents=True)\n",
    "        np.savetxt(path_root / f\"{self.split}.txt\", [path.relative_to(self.data_root) for path in self.instances], fmt='%s')"
   ]
  },
  {
   "cell_type": "code",
   "execution_count": 3,
   "metadata": {},
   "outputs": [],
   "source": [
    "## Save paths for each split\n",
    "train_dataset = TspDataset(split = \"train\")\n",
    "val_dataset = TspDataset(split = \"val\")\n",
    "test_dataset = TspDataset(split = \"test\")\n",
    "\n",
    "# train_dataset.save_paths()\n",
    "# val_dataset.save_paths()\n",
    "# test_dataset.save_paths()"
   ]
  },
  {
   "cell_type": "code",
   "execution_count": 4,
   "metadata": {
    "cell_id": "26131966b1b3442f87b4f36bea914e67",
    "deepnote_cell_type": "code",
    "deepnote_to_be_reexecuted": false,
    "execution_millis": 61,
    "execution_start": 1711449390606,
    "source_hash": null
   },
   "outputs": [],
   "source": [
    "from icecream import ic\n",
    "from einops import rearrange\n",
    "\n",
    "class ConvBlock(nn.Module):\n",
    "    def __init__(self, input_dim, output_dim):\n",
    "        super().__init__()\n",
    "        self.activation_fn = nn.ReLU()\n",
    "\n",
    "        self.node_conv = gnn.DenseGATConv(input_dim, output_dim)\n",
    "        \n",
    "        self.node_edge_conv = gnn.DenseGATConv(input_dim, output_dim)\n",
    "        self.edge_value_conv = nn.Conv2d(output_dim, 1, 1)\n",
    "        self.edge_edge_conv = nn.Conv2d(input_dim, output_dim, 1)\n",
    "    \n",
    "    def forward(self, graph):    \n",
    "        node_feats, edge_values, edge_feats = graph\n",
    "        \n",
    "        new_node_feats = self.node_conv(node_feats, edge_values)\n",
    "        \n",
    "        node_edge_feats = self.node_edge_conv(node_feats, edge_values)\n",
    "        edge_edge_feats = self.edge_edge_conv(edge_feats)\n",
    "       \n",
    "        node_edge_feats = rearrange(node_edge_feats, \"b n c -> b c n 1\") + rearrange(node_edge_feats, \"b n c -> b c 1 n\")\n",
    "\n",
    "        new_edge_feats = node_edge_feats + edge_edge_feats\n",
    "        \n",
    "        new_edge_values = torch.sigmoid(self.edge_value_conv(new_edge_feats))\n",
    "        new_edge_values = rearrange(new_edge_values, \"b 1 n1 n2 -> b n1 n2\")\n",
    "\n",
    "        new_node_feats = self.activation_fn(new_node_feats)\n",
    "        new_edge_feats = self.activation_fn(new_edge_feats)\n",
    "\n",
    "        return (new_node_feats, new_edge_values, new_edge_feats)\n",
    "\n",
    "class Model(nn.Module):\n",
    "    def __init__(self):\n",
    "        super().__init__()\n",
    "\n",
    "        self.model = nn.Sequential(\n",
    "            ConvBlock(1, 32),\n",
    "            ConvBlock(32, 32),\n",
    "            ConvBlock(32, 32),\n",
    "            ConvBlock(32, 1)\n",
    "        )\n",
    "\n",
    "    def forward(self, graph):\n",
    "        node_feats, edge_feats = graph.x, graph.edge_attr\n",
    "        node_feats, edge_feats = node_feats.unsqueeze(0), edge_feats.unsqueeze(0)\n",
    "        graph = (node_feats, edge_feats, edge_feats.unsqueeze(1))\n",
    "        _, _, edge_feats = self.model(graph)\n",
    "\n",
    "        out = rearrange(edge_feats, \"1 1 n1 n2 -> n1 n2\")\n",
    "\n",
    "        # graph.edge_attr = torch.softmax(graph.edge_attr, -1)\n",
    "        # out = torch.sigmoid(out)\n",
    "        return out"
   ]
  },
  {
   "cell_type": "code",
   "execution_count": null,
   "metadata": {
    "cell_id": "b1b445ba5900423daab04019a6e5f6a1",
    "deepnote_cell_type": "code",
    "deepnote_to_be_reexecuted": false,
    "execution_millis": 1127561,
    "execution_start": 1711450330354,
    "source_hash": null
   },
   "outputs": [
    {
     "name": "stderr",
     "output_type": "stream",
     "text": [
      "100%|███████████████████████████████████████████████████████████| 1016/1016 [00:13<00:00, 77.11it/s, loss=0.725, std=1.35]\n"
     ]
    },
    {
     "name": "stdout",
     "output_type": "stream",
     "text": [
      "epoch 0: 1.422810435295105 3.139247417449951\n"
     ]
    },
    {
     "name": "stderr",
     "output_type": "stream",
     "text": [
      "100%|████████████████████████████████████████████████████████████| 1016/1016 [00:13<00:00, 73.30it/s, loss=0.71, std=3.51]\n"
     ]
    },
    {
     "name": "stdout",
     "output_type": "stream",
     "text": [
      "epoch 1: 1.4158296585083008 3.0167746543884277\n"
     ]
    },
    {
     "name": "stderr",
     "output_type": "stream",
     "text": [
      " 94%|████████████████████████████████████████████████████████▋   | 960/1016 [00:12<00:00, 77.91it/s, loss=0.709, std=4.54]"
     ]
    }
   ],
   "source": [
    "device = torch.device(\"cpu\")\n",
    "\n",
    "train_dataloader = DataLoader(train_dataset, batch_size=1, shuffle=True, pin_memory=True)\n",
    "val_dataloader = DataLoader(train_dataset, batch_size=1, shuffle=False, pin_memory=True)\n",
    "# loss_fn = nn.CrossEntropyLoss()\n",
    "\n",
    "def dice_loss(y_pred, y_true):\n",
    "    y_pred = torch.sigmoid(y_pred)\n",
    "    # Flatten the predictions and ground truth\n",
    "    y_true_flat = y_true.flatten()\n",
    "    y_pred_flat = y_pred.flatten()\n",
    "\n",
    "    # Compute the intersection and union\n",
    "    intersection = (y_true_flat * y_pred_flat).sum() + 1\n",
    "    union = (y_true_flat).sum() + (y_pred_flat).sum() + 1\n",
    "\n",
    "    # Compute the Dice loss\n",
    "    dice_loss = 1 - 2 * intersection / union\n",
    "\n",
    "    return dice_loss\n",
    "\n",
    "loss_fn = dice_loss\n",
    "\n",
    "from tqdm import tqdm\n",
    "\n",
    "while True:\n",
    "    lowest_val_loss = float(\"inf\")\n",
    "    patience = 0\n",
    "    cu_loss_arr = []\n",
    "    cu_std_arr = []\n",
    "    val_loss_arr = []\n",
    "    val_tour_len_arr = []\n",
    "    model = Model().to(device)\n",
    "    optimizer = torch.optim.Adam(model.parameters())\n",
    "    for epoch in range(200):\n",
    "        if patience >= 50:\n",
    "            continue\n",
    "        cu_loss = 0\n",
    "        cu_std = 0\n",
    "        pbar = tqdm(train_dataloader, delay=1)\n",
    "        for i, batch in enumerate(pbar):\n",
    "            graph = batch.to(device)\n",
    "            out = model(graph)\n",
    "        \n",
    "            # loss = loss_fn(out, graph.y) + loss_fn(out.mT, graph.y)\n",
    "            loss = loss_fn(out, graph.y)\n",
    "        \n",
    "            optimizer.zero_grad()\n",
    "            loss.backward()\n",
    "            optimizer.step()\n",
    "    \n",
    "            loss = loss.detach().cpu().item()\n",
    "            cu_loss += loss\n",
    "\n",
    "            std = torch.std(out)\n",
    "            std = std.detach().cpu().item()\n",
    "            cu_std += std\n",
    "    \n",
    "            pbar.set_postfix(loss = cu_loss / (i + 1), std = cu_std / (i + 1))\n",
    "\n",
    "            if i > 10 and (cu_std / (i + 1) < 1e-4):\n",
    "                break\n",
    "        else:\n",
    "            cu_loss_arr.append(cu_loss / len(train_dataloader))\n",
    "            cu_std_arr.append(cu_std / len(train_dataloader))\n",
    "            with torch.no_grad():\n",
    "                cu_loss = 0\n",
    "                tour_len = 0\n",
    "                for batch in val_dataloader:\n",
    "                    graph = batch.to(device)\n",
    "                    out = model(graph)\n",
    "        \n",
    "                    loss = loss_fn(out, graph.y) + loss_fn(out.mT, graph.y)\n",
    "                    loss = loss.mean()\n",
    "                    cu_loss += loss\n",
    "\n",
    "                    out = out.unsqueeze(0)\n",
    "                    path = beamsearch_tour_nodes(out, 5, out.shape[-1])[0]\n",
    "                    distance_matrix = graph.edge_attr\n",
    "                \n",
    "                    for y_idx in range(path.shape[0] - 1):\n",
    "                        i = path[y_idx]\n",
    "                        j = path[y_idx + 1]\n",
    "                        tour_len += distance_matrix[i, j]\n",
    "                    tour_len += distance_matrix[j, 0]  # Add final connection to tour/cycle\n",
    "            val_loss = cu_loss / len(val_dataloader)\n",
    "            tour_len = tour_len / len(val_dataloader)\n",
    "\n",
    "            val_loss_arr.append(val_loss)\n",
    "            val_tour_len_arr.append(tour_len)\n",
    "            print(f\"epoch {epoch}: {val_loss} {tour_len}\")\n",
    "            if val_loss < lowest_val_loss:\n",
    "                patience = 0\n",
    "                torch.save(model.state_dict(), \"v2-best-checkpoint.pt\")\n",
    "                lowest_val_loss = val_loss\n",
    "            else:\n",
    "                patience += 1\n",
    "            continue\n",
    "        break\n",
    "    else:\n",
    "        break"
   ]
  },
  {
   "cell_type": "code",
   "execution_count": 7,
   "metadata": {},
   "outputs": [
    {
     "data": {
      "text/plain": [
       "<All keys matched successfully>"
      ]
     },
     "execution_count": 7,
     "metadata": {},
     "output_type": "execute_result"
    }
   ],
   "source": [
    "# torch.save(model.state_dict(), \"checkpoint.pt\")\n",
    "model = Model()\n",
    "model.load_state_dict(torch.load(\"best-checkpoint.pt\"))"
   ]
  },
  {
   "cell_type": "code",
   "execution_count": null,
   "metadata": {},
   "outputs": [],
   "source": [
    "tour_len = 0\n",
    "for batch in tqdm(val_dataset):\n",
    "    graph = batch\n",
    "    with torch.no_grad():\n",
    "        out = model(graph)\n",
    "        out = out.unsqueeze(0)\n",
    "    path = beamsearch_tour_nodes(out, 10, out.shape[-1])[0]\n",
    "    distance_matrix = graph.edge_attr\n",
    "\n",
    "    for y_idx in range(path.shape[0] - 1):\n",
    "        i = path[y_idx]\n",
    "        j = path[y_idx + 1]\n",
    "        tour_len += distance_matrix[i, j]\n",
    "    tour_len += distance_matrix[j, 0]  # Add final connection to tour/cycle\n",
    "ic(tour_len)"
   ]
  },
  {
   "cell_type": "code",
   "execution_count": 30,
   "metadata": {},
   "outputs": [
    {
     "name": "stderr",
     "output_type": "stream",
     "text": [
      "100%|███████████████████████████████████████████████████████████████████████████████████| 127/127 [00:01<00:00, 78.33it/s]"
     ]
    },
    {
     "name": "stdout",
     "output_type": "stream",
     "text": [
      "acc: 0.7685207724571228\n"
     ]
    },
    {
     "name": "stderr",
     "output_type": "stream",
     "text": [
      "\n"
     ]
    }
   ],
   "source": [
    "graph = val_dataset[12]\n",
    "\n",
    "import matplotlib.pyplot as plt\n",
    "\n",
    "cu_acc = 0\n",
    "for graph in tqdm(val_dataset):\n",
    "    with torch.no_grad():\n",
    "        # plt.imshow(graph.edge_attr.squeeze())\n",
    "        # plt.show()\n",
    "        out = model(graph)\n",
    "        # plt.imshow(out)\n",
    "        # plt.imshow(torch.softmax(out, dim=1) + torch.softmax(out, dim=0))\n",
    "        # plt.show()\n",
    "        max_hori = (out >= torch.topk(out, k=2).values.amin(dim=1).unsqueeze(1)).float()\n",
    "        # plt.imshow(max_hori + max_hori.mT > 0)\n",
    "        # plt.show()\n",
    "        # plt.imshow(graph.y)\n",
    "        # plt.show()\n",
    "    \n",
    "        cu_acc += torch.sum((max_hori + max_hori.mT > 0).float() * graph.y) / torch.sum(graph.y)\n",
    "print(f\"acc: {cu_acc / len(val_dataset)}\")"
   ]
  },
  {
   "cell_type": "code",
   "execution_count": 25,
   "metadata": {
    "scrolled": true
   },
   "outputs": [
    {
     "data": {
      "image/png": "[encoded data removed]",
      "text/plain": [
       "<Figure size 640x480 with 1 Axes>"
      ]
     },
     "metadata": {},
     "output_type": "display_data"
    },
    {
     "data": {
      "image/png": "[encoded data removed]",
      "text/plain": [
       "<Figure size 640x480 with 1 Axes>"
      ]
     },
     "metadata": {},
     "output_type": "display_data"
    }
   ],
   "source": [
    "import matplotlib.pyplot as plt\n",
    "\n",
    "plt.plot(loss_arr)\n",
    "plt.show()\n",
    "plt.plot(std_arr)\n",
    "plt.show()"
   ]
  },
  {
   "cell_type": "markdown",
   "metadata": {},
   "source": [
    "## Beam Search"
   ]
  },
  {
   "cell_type": "code",
   "execution_count": 8,
   "metadata": {},
   "outputs": [],
   "source": [
    "import numpy as np\n",
    "import torch\n",
    "\n",
    "\n",
    "class Beamsearch(object):\n",
    "    \"\"\"Class for managing internals of beamsearch procedure.\n",
    "\n",
    "    References:\n",
    "        General: https://github.com/OpenNMT/OpenNMT-py/blob/master/onmt/translate/beam.py\n",
    "        For TSP: https://github.com/alexnowakvila/QAP_pt/blob/master/src/tsp/beam_search.py\n",
    "    \"\"\"\n",
    "\n",
    "    def __init__(self, beam_size, batch_size, num_nodes,\n",
    "                 dtypeFloat=torch.FloatTensor, dtypeLong=torch.LongTensor, \n",
    "                 probs_type='raw', random_start=False):\n",
    "        \"\"\"\n",
    "        Args:\n",
    "            beam_size: Beam size\n",
    "            batch_size: Batch size\n",
    "            num_nodes: Number of nodes in TSP tours\n",
    "            dtypeFloat: Float data type (for GPU/CPU compatibility)\n",
    "            dtypeLong: Long data type (for GPU/CPU compatibility)\n",
    "            probs_type: Type of probability values being handled by beamsearch (either 'raw'/'logits'/'argmax'(TODO))\n",
    "            random_start: Flag for using fixed (at node 0) vs. random starting points for beamsearch\n",
    "        \"\"\"\n",
    "        # Beamsearch parameters\n",
    "        self.batch_size = batch_size\n",
    "        self.beam_size = beam_size\n",
    "        self.num_nodes = num_nodes\n",
    "        self.probs_type = probs_type\n",
    "        # Set data types\n",
    "        self.dtypeFloat = dtypeFloat\n",
    "        self.dtypeLong = dtypeLong\n",
    "        # Set beamsearch starting nodes\n",
    "        self.start_nodes = torch.zeros(batch_size, beam_size).type(self.dtypeLong)\n",
    "        if random_start == True:\n",
    "            # Random starting nodes\n",
    "            self.start_nodes = torch.randint(0, num_nodes, (batch_size, beam_size)).type(self.dtypeLong)\n",
    "        # Mask for constructing valid hypothesis\n",
    "        self.mask = torch.ones(batch_size, beam_size, num_nodes).type(self.dtypeFloat)\n",
    "        self.update_mask(self.start_nodes)  # Mask the starting node of the beam search\n",
    "        # Score for each translation on the beam\n",
    "        self.scores = torch.zeros(batch_size, beam_size).type(self.dtypeFloat)\n",
    "        self.all_scores = []\n",
    "        # Backpointers at each time-step\n",
    "        self.prev_Ks = []\n",
    "        # Outputs at each time-step\n",
    "        self.next_nodes = [self.start_nodes]\n",
    "\n",
    "    def get_current_state(self):\n",
    "        \"\"\"Get the output of the beam at the current timestep.\n",
    "        \"\"\"\n",
    "        current_state = (self.next_nodes[-1].unsqueeze(2)\n",
    "                         .expand(self.batch_size, self.beam_size, self.num_nodes))\n",
    "        return current_state\n",
    "\n",
    "    def get_current_origin(self):\n",
    "        \"\"\"Get the backpointers for the current timestep.\n",
    "        \"\"\"\n",
    "        return self.prev_Ks[-1]\n",
    "\n",
    "    def advance(self, trans_probs):\n",
    "        \"\"\"Advances the beam based on transition probabilities.\n",
    "\n",
    "        Args:\n",
    "            trans_probs: Probabilities of advancing from the previous step (batch_size, beam_size, num_nodes)\n",
    "        \"\"\"\n",
    "        # Compound the previous scores (summing logits == multiplying probabilities)\n",
    "        if len(self.prev_Ks) > 0:\n",
    "            if self.probs_type == 'raw':\n",
    "                beam_lk = trans_probs * self.scores.unsqueeze(2).expand_as(trans_probs)\n",
    "            elif self.probs_type == 'logits':\n",
    "                beam_lk = trans_probs + self.scores.unsqueeze(2).expand_as(trans_probs)\n",
    "        else:\n",
    "            beam_lk = trans_probs\n",
    "            # Only use the starting nodes from the beam\n",
    "            if self.probs_type == 'raw':\n",
    "                beam_lk[:, 1:] = torch.zeros(beam_lk[:, 1:].size()).type(self.dtypeFloat)\n",
    "            elif self.probs_type == 'logits':\n",
    "                beam_lk[:, 1:] = -1e20 * torch.ones(beam_lk[:, 1:].size()).type(self.dtypeFloat)\n",
    "        # Multiply by mask\n",
    "        beam_lk = beam_lk * self.mask\n",
    "        beam_lk = beam_lk.view(self.batch_size, -1)  # (batch_size, beam_size * num_nodes)\n",
    "        # Get top k scores and indexes (k = beam_size)\n",
    "        bestScores, bestScoresId = beam_lk.topk(self.beam_size, 1, True, True)\n",
    "        # Update scores\n",
    "        self.scores = bestScores\n",
    "        # Update backpointers\n",
    "        prev_k = bestScoresId // self.num_nodes\n",
    "        self.prev_Ks.append(prev_k)\n",
    "        # Update outputs\n",
    "        new_nodes = bestScoresId - prev_k * self.num_nodes\n",
    "        self.next_nodes.append(new_nodes)\n",
    "        # Re-index mask\n",
    "        perm_mask = prev_k.unsqueeze(2).expand_as(self.mask)  # (batch_size, beam_size, num_nodes)\n",
    "        self.mask = self.mask.gather(1, perm_mask)\n",
    "        # Mask newly added nodes\n",
    "        self.update_mask(new_nodes)\n",
    "\n",
    "    def update_mask(self, new_nodes):\n",
    "        \"\"\"Sets new_nodes to zero in mask.\n",
    "        \"\"\"\n",
    "        arr = (torch.arange(0, self.num_nodes).unsqueeze(0).unsqueeze(1)\n",
    "               .expand_as(self.mask).type(self.dtypeLong))\n",
    "        new_nodes = new_nodes.unsqueeze(2).expand_as(self.mask)\n",
    "        update_mask = 1 - torch.eq(arr, new_nodes).type(self.dtypeFloat)\n",
    "        self.mask = self.mask * update_mask\n",
    "        if self.probs_type == 'logits':\n",
    "            # Convert 0s in mask to inf\n",
    "            self.mask[self.mask == 0] = 1e20\n",
    "\n",
    "    def sort_best(self):\n",
    "        \"\"\"Sort the beam.\n",
    "        \"\"\"\n",
    "        return torch.sort(self.scores, 0, True)\n",
    "\n",
    "    def get_best(self):\n",
    "        \"\"\"Get the score and index of the best hypothesis in the beam.\n",
    "        \"\"\"\n",
    "        scores, ids = self.sort_best()\n",
    "        return scores[1], ids[1]\n",
    "\n",
    "    def get_hypothesis(self, k):\n",
    "        \"\"\"Walk back to construct the full hypothesis.\n",
    "\n",
    "        Args:\n",
    "            k: Position in the beam to construct (usually 0s for most probable hypothesis)\n",
    "        \"\"\"\n",
    "        assert self.num_nodes == len(self.prev_Ks) + 1\n",
    "\n",
    "        hyp = -1 * torch.ones(self.batch_size, self.num_nodes).type(self.dtypeLong)\n",
    "        for j in range(len(self.prev_Ks) - 1, -2, -1):\n",
    "            hyp[:, j + 1] = self.next_nodes[j + 1].gather(1, k).view(1, self.batch_size)\n",
    "            k = self.prev_Ks[j].gather(1, k)\n",
    "        return hyp\n"
   ]
  },
  {
   "cell_type": "code",
   "execution_count": 9,
   "metadata": {},
   "outputs": [],
   "source": [
    "import torch.nn.functional as F\n",
    "\n",
    "def beamsearch_tour_nodes(y_pred_edges, beam_size, num_nodes):\n",
    "    y = (F.softmax(y_pred_edges, dim=-1) + F.softmax(y_pred_edges, dim=-2)) / 2\n",
    "    # Perform beamsearch\n",
    "    beamsearch = Beamsearch(beam_size, 1, num_nodes)\n",
    "    trans_probs = y.gather(1, beamsearch.get_current_state())\n",
    "    for step in range(num_nodes - 1):\n",
    "        beamsearch.advance(trans_probs)\n",
    "        trans_probs = y.gather(1, beamsearch.get_current_state())\n",
    "    # Find TSP tour with highest probability among beam_size candidates\n",
    "    ends = torch.zeros(1, 1, dtype=torch.long)\n",
    "    return beamsearch.get_hypothesis(ends)"
   ]
  },
  {
   "cell_type": "code",
   "execution_count": 11,
   "metadata": {},
   "outputs": [
    {
     "name": "stderr",
     "output_type": "stream",
     "text": [
      "100%|████████████████████████████████████████████████████████████████████████████████| 1271/1271 [00:08<00:00, 141.60it/s]\n"
     ]
    }
   ],
   "source": [
    "import time\n",
    "import pandas as pd\n",
    "\n",
    "dataset = TspDataset(split = None)\n",
    "instances = [path.stem for path in dataset.instances]\n",
    "time_taken_arr = []\n",
    "path_arr = []\n",
    "tour_len_arr = []\n",
    "num_dest_arr = []\n",
    "for batch in tqdm(dataset):\n",
    "    graph = batch\n",
    "    with torch.no_grad():\n",
    "        start = time.time_ns()\n",
    "        \n",
    "        out = model(graph)\n",
    "        out = out.unsqueeze(0)\n",
    "        path = beamsearch_tour_nodes(out, 5, out.shape[-1])[0]\n",
    "\n",
    "        time_taken = time.time_ns() - start\n",
    "    distance_matrix = graph.edge_attr\n",
    "\n",
    "    tour_len = 0\n",
    "    for y_idx in range(path.shape[0] - 1):\n",
    "        i = path[y_idx]\n",
    "        j = path[y_idx + 1]\n",
    "        tour_len += distance_matrix[i, j]\n",
    "    tour_len += distance_matrix[j, 0]  # Add final connection to tour/cycle\n",
    "\n",
    "    time_taken_arr.append(time_taken)\n",
    "    path_arr.append(str(path.tolist()))\n",
    "    tour_len_arr.append(tour_len.item() * 1_000)\n",
    "    num_dest_arr.append(path.shape[0])\n",
    "\n",
    "df = pd.DataFrame({\n",
    "    \"instances\": instances,\n",
    "    \"sequence\": path_arr,\n",
    "    \"distances (m)\": tour_len_arr,\n",
    "    \"time (ns)\": time_taken_arr,\n",
    "    \"num_dests\": num_dest_arr\n",
    "})\n",
    "df.to_csv(\"gnn_v1_beam_5_results.csv\", index=False)"
   ]
  },
  {
   "cell_type": "code",
   "execution_count": null,
   "metadata": {},
   "outputs": [],
   "source": []
  }
 ],
 "metadata": {
  "deepnote_execution_queue": [],
  "deepnote_notebook_id": "48b93839da76417995c0a83e909302b6",
  "deepnote_persisted_session": {
   "createdAt": "2024-03-26T12:15:44.583Z"
  },
  "kernelspec": {
   "display_name": "Python 3 (ipykernel)",
   "language": "python",
   "name": "python3"
  },
  "language_info": {
   "codemirror_mode": {
    "name": "ipython",
    "version": 3
   },
   "file_extension": ".py",
   "mimetype": "text/x-python",
   "name": "python",
   "nbconvert_exporter": "python",
   "pygments_lexer": "ipython3",
   "version": "3.12.2"
  },
  "widgets": {
   "application/vnd.jupyter.widget-state+json": {
    "state": {},
    "version_major": 2,
    "version_minor": 0
   }
  }
 },
 "nbformat": 4,
 "nbformat_minor": 4
}
