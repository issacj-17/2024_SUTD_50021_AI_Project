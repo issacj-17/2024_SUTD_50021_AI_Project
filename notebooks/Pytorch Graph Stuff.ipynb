{
 "cells": [
  {
   "cell_type": "code",
   "execution_count": 46,
   "metadata": {
    "cell_id": "180a1aec5ed440f0b208413d7943167a",
    "deepnote_cell_type": "code",
    "deepnote_to_be_reexecuted": false,
    "execution_millis": 57,
    "execution_start": 1711448586528,
    "source_hash": null
   },
   "outputs": [],
   "source": [
    "import torch\n",
    "from torch import Tensor\n",
    "import torch.nn as nn\n",
    "from torch_geometric.nn import DenseGCNConv\n",
    "\n",
    "from icecream import ic"
   ]
  },
  {
   "cell_type": "code",
   "execution_count": 189,
   "metadata": {
    "cell_id": "e0635c35eadc4ede891c3166bb960ad2",
    "deepnote_cell_type": "code",
    "deepnote_to_be_reexecuted": false,
    "execution_millis": 129,
    "execution_start": 1711450005400,
    "source_hash": null
   },
   "outputs": [],
   "source": [
    "import numpy as np\n",
    "from pathlib import Path\n",
    "from torch_geometric.data import Data, Dataset\n",
    "from torch_geometric.loader import DataLoader\n",
    "\n",
    "class TspDataset(Dataset):\n",
    "    def __init__(self):\n",
    "        super().__init__()\n",
    "        data_root = Path(\"../data/processed_heuristic-threshold\")\n",
    "        instances = data_root / \"instances\" / \"1\"\n",
    "        self.instances = sum((list(instance.iterdir()) for instance in instances.iterdir() if instance.stem != \"1\"), [])\n",
    "    \n",
    "    def get(self, idx):\n",
    "        entry = self.instances[idx]\n",
    "        with np.load(entry / \"pairwise.npz\") as data:\n",
    "            distance_matrix = torch.tensor(data['arr_0'], dtype=torch.float)\n",
    "        route_mask = torch.from_numpy(np.loadtxt(entry / \"sol_mask.txt\", dtype=np.float32))\n",
    "        \n",
    "        # route_distance = data['route_distance']\n",
    "\n",
    "        graph = Data(x=torch.ones(distance_matrix.shape[0], 1, dtype=torch.float), edge_attr=distance_matrix, y=route_mask)\n",
    "        return graph\n",
    "    \n",
    "    def len(self):\n",
    "        return len(self.instances)    "
   ]
  },
  {
   "cell_type": "code",
   "execution_count": 190,
   "metadata": {
    "cell_id": "26131966b1b3442f87b4f36bea914e67",
    "deepnote_cell_type": "code",
    "deepnote_to_be_reexecuted": false,
    "execution_millis": 61,
    "execution_start": 1711449390606,
    "source_hash": null
   },
   "outputs": [],
   "source": [
    "from icecream import ic\n",
    "from einops import rearrange\n",
    "\n",
    "class ConvBlock(nn.Module):\n",
    "    def __init__(self, input_dim, output_dim):\n",
    "        super().__init__()\n",
    "        self.activation_fn = nn.ReLU()\n",
    "\n",
    "        self.conv1 = DenseGCNConv(input_dim, output_dim)\n",
    "        self.edge_conv1 = nn.Conv2d(output_dim, 1, 1)\n",
    "    \n",
    "    def forward(self, graph):\n",
    "        node_feats = self.conv1(graph.x, graph.edge_attr)\n",
    "        node_feats = self.activation_fn(node_feats)\n",
    "        edge_feats = rearrange(node_feats, \"b n c -> b c n 1\")\n",
    "        edge_feats = self.edge_conv1(edge_feats @ edge_feats.mT)\n",
    "        edge_feats = self.activation_fn(edge_feats)\n",
    "        edge_feats = rearrange(edge_feats, \"b 1 n1 n2 -> b n1 n2\")\n",
    "\n",
    "        return Data(x=node_feats, edge_attr=edge_feats)\n",
    "\n",
    "class Model(nn.Module):\n",
    "    def __init__(self):\n",
    "        super().__init__()\n",
    "\n",
    "        self.model = nn.Sequential(\n",
    "            ConvBlock(1, 32),\n",
    "            ConvBlock(32, 64),\n",
    "            ConvBlock(64, 1),\n",
    "            # ConvBlock(64),\n",
    "            # ConvBlock(128),\n",
    "        )\n",
    "\n",
    "    def forward(self, graph):\n",
    "        return self.model(graph)"
   ]
  },
  {
   "cell_type": "code",
   "execution_count": 191,
   "metadata": {
    "cell_id": "b1b445ba5900423daab04019a6e5f6a1",
    "deepnote_cell_type": "code",
    "deepnote_to_be_reexecuted": false,
    "execution_millis": 1127561,
    "execution_start": 1711450330354,
    "source_hash": null
   },
   "outputs": [
    {
     "name": "stderr",
     "output_type": "stream",
     "text": [
      "100%|█████████████████████████████████████████████████████████████████████████████| 1350/1350 [00:10<00:00, 126.40it/s]\n",
      "100%|█████████████████████████████████████████████████████████████████████████████| 1350/1350 [00:10<00:00, 131.07it/s]\n",
      "100%|█████████████████████████████████████████████████████████████████████████████| 1350/1350 [00:10<00:00, 134.70it/s]\n",
      "100%|█████████████████████████████████████████████████████████████████████████████| 1350/1350 [00:10<00:00, 125.65it/s]\n",
      "100%|█████████████████████████████████████████████████████████████████████████████| 1350/1350 [00:10<00:00, 134.30it/s]\n"
     ]
    }
   ],
   "source": [
    "# device = torch.device(\"cuda\" if torch.cuda.is_available() else \"cpu\")\n",
    "device = torch.device(\"cpu\")\n",
    "\n",
    "tsp_dataset = TspDataset()\n",
    "tsp_dataloader = DataLoader(tsp_dataset, batch_size=1, shuffle=False, pin_memory=True)\n",
    "model = Model().to(device)\n",
    "loss_fn = nn.BCELoss()\n",
    "\n",
    "def dice_loss(y_pred, y_true):\n",
    "    y_pred = torch.sigmoid(y_pred)\n",
    "    # Flatten the predictions and ground truth\n",
    "    y_true_flat = y_true.flatten()\n",
    "    y_pred_flat = y_pred.flatten()\n",
    "\n",
    "    # Compute the intersection and union\n",
    "    intersection = (y_true_flat * y_pred_flat).sum() + 1\n",
    "    union = (y_true_flat).sum() + (y_pred_flat).sum() + 1\n",
    "\n",
    "    # Compute the Dice loss\n",
    "    dice_loss = 1 - 2 * intersection / union\n",
    "\n",
    "    return dice_loss\n",
    "\n",
    "loss_fn = dice_loss\n",
    "# loss_fn = nn.MSELoss()\n",
    "\n",
    "optimizer = torch.optim.Adam(model.parameters())\n",
    "\n",
    "from tqdm import tqdm\n",
    "\n",
    "loss_arr = []\n",
    "for epoch in range(5):\n",
    "    for batch in tqdm(tsp_dataloader):\n",
    "        graph = batch\n",
    "        out = model(graph)\n",
    "        out = out.edge_attr\n",
    "        out = out.squeeze()\n",
    "    \n",
    "        # print(graph.y, out)\n",
    "        loss = loss_fn(out, graph.y)\n",
    "    \n",
    "        optimizer.zero_grad()\n",
    "        loss.backward()\n",
    "        optimizer.step()\n",
    "\n",
    "        loss = loss.detach().cpu().item()\n",
    "        loss_arr.append(loss)"
   ]
  },
  {
   "cell_type": "code",
   "execution_count": 192,
   "metadata": {},
   "outputs": [
    {
     "data": {
      "image/png": "[encoded data removed]",
      "text/plain": [
       "<Figure size 640x480 with 1 Axes>"
      ]
     },
     "metadata": {},
     "output_type": "display_data"
    },
    {
     "data": {
      "image/png": "[encoded data removed]",
      "text/plain": [
       "<Figure size 640x480 with 1 Axes>"
      ]
     },
     "metadata": {},
     "output_type": "display_data"
    }
   ],
   "source": [
    "graph = tsp_dataset[10]\n",
    "\n",
    "import matplotlib.pyplot as plt\n",
    "\n",
    "with torch.no_grad():\n",
    "    plt.imshow(model(graph).edge_attr.squeeze())\n",
    "    plt.show()\n",
    "    plt.imshow(graph.y)"
   ]
  },
  {
   "cell_type": "code",
   "execution_count": 193,
   "metadata": {},
   "outputs": [
    {
     "data": {
      "text/plain": [
       "[<matplotlib.lines.Line2D at 0x1d698032e70>]"
      ]
     },
     "execution_count": 193,
     "metadata": {},
     "output_type": "execute_result"
    },
    {
     "data": {
      "image/png": "[encoded data removed]",
      "text/plain": [
       "<Figure size 640x480 with 1 Axes>"
      ]
     },
     "metadata": {},
     "output_type": "display_data"
    }
   ],
   "source": [
    "import matplotlib.pyplot as plt\n",
    "\n",
    "plt.plot(loss_arr)"
   ]
  }
 ],
 "metadata": {
  "deepnote_execution_queue": [],
  "deepnote_notebook_id": "48b93839da76417995c0a83e909302b6",
  "deepnote_persisted_session": {
   "createdAt": "2024-03-26T12:15:44.583Z"
  },
  "kernelspec": {
   "display_name": "Python 3 (ipykernel)",
   "language": "python",
   "name": "python3"
  },
  "language_info": {
   "codemirror_mode": {
    "name": "ipython",
    "version": 3
   },
   "file_extension": ".py",
   "mimetype": "text/x-python",
   "name": "python",
   "nbconvert_exporter": "python",
   "pygments_lexer": "ipython3",
   "version": "3.12.2"
  },
  "widgets": {
   "application/vnd.jupyter.widget-state+json": {
    "state": {},
    "version_major": 2,
    "version_minor": 0
   }
  }
 },
 "nbformat": 4,
 "nbformat_minor": 4
}
